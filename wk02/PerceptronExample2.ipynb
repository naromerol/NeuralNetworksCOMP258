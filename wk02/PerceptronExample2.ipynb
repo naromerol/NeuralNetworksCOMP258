{
 "cells": [
  {
   "cell_type": "code",
   "execution_count": 51,
   "metadata": {},
   "outputs": [],
   "source": [
    "import numpy as np\n",
    "\n",
    "class PerceptronModel:\n",
    "    def __init__(self, no_of_featues):\n",
    "        \n",
    "        self.weights = np.zeros(no_of_featues)\n",
    "        self.bias = 0.\n",
    "        \n",
    "    def predict(self,features):\n",
    "        #calculate the weighted sum\n",
    "        weighted_sum = np.dot(features, self.weights) + self.bias\n",
    "        # use step function as activation function\n",
    "        if weighted_sum > 0:\n",
    "          return 1\n",
    "        else:\n",
    "          return 0            \n",
    "    \n",
    "    def train(self, features, label):\n",
    "        \n",
    "        # Make a prediction based on current weights.\n",
    "        prediction = self.predict(features)\n",
    "        # Update the weights if the prediction is wrong.\n",
    "        if prediction != label:\n",
    "            gradient = label - prediction; # how far off are we?\n",
    "            for i in range(len(self.weights)):\n",
    "                self.weights[i] += gradient * features[i] #The perceptron update rule\n",
    "            \n",
    "            self.bias += gradient;\n",
    "            \n",
    "        return self # return weights and bias\n"
   ]
  },
  {
   "cell_type": "code",
   "execution_count": 41,
   "metadata": {},
   "outputs": [
    {
     "data": {
      "text/plain": [
       "'\\n# Create the model\\np = PerceptronModel(2);\\n\\n# Train the model with input with a diagonal boundary.\\nfor i in range(0,100):\\n    p.train(np.array([1, 1]), 1)\\n    p.train(np.array([1, 0]), 0)\\n    p.train(np.array([0, 1]), 0)\\n    p.train(np.array([0, 0]), 0)\\n#\\nprint(p.predict(np.array([0, 0]))) # 0\\n\\n# p.predict([0, 1]); # 0\\n# p.predict([1, 0]); # 0\\n# p.predict([1, 1]); # 1\\n\\n'"
      ]
     },
     "execution_count": 41,
     "metadata": {},
     "output_type": "execute_result"
    }
   ],
   "source": [
    "\"\"\"\n",
    "# Create the model\n",
    "p = PerceptronModel(2);\n",
    "\n",
    "# Train the model with input with a diagonal boundary.\n",
    "for i in range(0,100):\n",
    "    p.train(np.array([1, 1]), 1)\n",
    "    p.train(np.array([1, 0]), 0)\n",
    "    p.train(np.array([0, 1]), 0)\n",
    "    p.train(np.array([0, 0]), 0)\n",
    "#\n",
    "print(p.predict(np.array([0, 0]))) # 0\n",
    "\n",
    "# p.predict([0, 1]); # 0\n",
    "# p.predict([1, 0]); # 0\n",
    "# p.predict([1, 1]); # 1\n",
    "\n",
    "\"\"\"\n",
    "\n"
   ]
  },
  {
   "cell_type": "code",
   "execution_count": 55,
   "metadata": {},
   "outputs": [
    {
     "name": "stdout",
     "output_type": "stream",
     "text": [
      "7\n",
      "0.27\n",
      "0.09\n",
      "0.0\n",
      "0.23\n",
      "0.0\n",
      "1.0\n",
      "0.32\n",
      "weights and bias: \n",
      "0.0\n",
      "[-1.48  0.88]\n",
      "a and b: \n",
      "1.681818181818182\n",
      "-0.0\n",
      "0\n"
     ]
    }
   ],
   "source": [
    "#\n",
    "#Friendly or not friendly example using teeth and size features\n",
    "#\n",
    "#normalized teeth and size features\n",
    "# X1 data - teeth number - is scaled to [0,1]\n",
    "X1 = np.array([0.27, 0.09, 0.00, 0.23, 0., 1.00, 0.32])\n",
    "# X2 data - size scaled to [0,1]\n",
    "X2 = np.array([0.50, 0.48, 0.12, 0.00, 1.00, 0.73, 0.33])\n",
    "\n",
    "# labels data or the output\n",
    "labels = np.array([1, 1, 1, 0, 1, 0, 0])\n",
    "\n",
    "print (len(X1))\n",
    "for j in range(len(X1)):\n",
    "        print(X1[j])\n",
    "# Create the perceptron model with two features\n",
    "p = PerceptronModel(2);\n",
    "\n",
    "# Train the model using 100 iterations\n",
    "for i in range (0,100):\n",
    "    for j in range(len(X1)):\n",
    "        p.train(np.array([X1[j], X2[j]]), labels[j]);\n",
    "\n",
    "\n",
    "print(\"weights and bias: \")\n",
    "print(p.bias)\n",
    "print(p.weights)\n",
    "#\n",
    "weights = p.weights\n",
    "bias = p.bias\n",
    "\n",
    "# y = (-w1/w2)x + (-bias/w2) = a*x + b\n",
    "# line coefficients\n",
    "a = -weights[0] / weights[1]\n",
    "b = -bias / weights[1]\n",
    "\n",
    "print('a and b: ')\n",
    "\n",
    "print(a)\n",
    "print(b)\n",
    "# calculating tw0 points to draw the line\n",
    "# x2 = a*x1 +b : x1 = 0 --> x2 = b, x1 = 1 --> x2 = a + b\n",
    "# line points:  (0,b) and (1, a+b)\n",
    "\n",
    "# It is important to notice that it will converge to any solution\n",
    "# that satisfies the training set.\n",
    "# Try to retrain to see if it changes.\n",
    "\n",
    "# Now we can use it to categorize samples it's never seen.\n",
    "# For example: something with 29 teeth and a size of 23 cm, likely to be nice ?\n",
    "predictionResult = p.predict(np.array([0.76,0.07])) # teeth number, size of the animal\n",
    "print(predictionResult)"
   ]
  },
  {
   "cell_type": "code",
   "execution_count": 61,
   "metadata": {},
   "outputs": [
    {
     "data": {
      "image/png": "[encoded data removed]",
      "text/plain": [
       "<Figure size 432x288 with 1 Axes>"
      ]
     },
     "metadata": {
      "needs_background": "light"
     },
     "output_type": "display_data"
    }
   ],
   "source": [
    "import matplotlib.pyplot as pl\n",
    "%matplotlib inline\n",
    "\n",
    "x = np.linspace(0,1);\n",
    "# Using weights w to compute a,b for a line y=a*x+b\n",
    "f = lambda x: a * x + b;\n",
    "\n",
    "fig =pl.figure()\n",
    "figa = pl.gca();\n",
    "\n",
    "pl.plot(X1,X2,'bo');\n",
    "pl.plot(x,f(x),'r')\n",
    "#\n",
    "# Linearly separate the points by the line\n",
    "points = np.zeros([len(X1),1]);\n",
    "\n",
    "for i in range(len(X1)):\n",
    "    if(f(X1[i]) > X2[i]):\n",
    "        # Point is below line\n",
    "        points[i] = 1;\n",
    "        pl.plot(X1[i],X2[i],'go')\n",
    "    else:\n",
    "        # Point is above line\n",
    "        points[i] = -1;\n",
    "        \n",
    "pl.legend(['Above','Separator','Below'],loc=0)\n",
    "pl.title('Selected points with their separating line.')\n",
    "figa.axes.get_xaxis().set_visible(False)\n",
    "figa.axes.get_yaxis().set_visible(False)"
   ]
  },
  {
   "cell_type": "code",
   "execution_count": null,
   "metadata": {},
   "outputs": [],
   "source": []
  }
 ],
 "metadata": {
  "kernelspec": {
   "display_name": "Python 3",
   "language": "python",
   "name": "python3"
  },
  "language_info": {
   "codemirror_mode": {
    "name": "ipython",
    "version": 3
   },
   "file_extension": ".py",
   "mimetype": "text/x-python",
   "name": "python",
   "nbconvert_exporter": "python",
   "pygments_lexer": "ipython3",
   "version": "3.7.7"
  }
 },
 "nbformat": 4,
 "nbformat_minor": 4
}
