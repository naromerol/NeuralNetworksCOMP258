{
 "cells": [
  {
   "cell_type": "code",
   "execution_count": 1,
   "metadata": {},
   "outputs": [
    {
     "data": {
      "text/plain": [
       "[<matplotlib.lines.Line2D at 0x17d3437e040>]"
      ]
     },
     "execution_count": 1,
     "metadata": {},
     "output_type": "execute_result"
    },
    {
     "data": {
      "image/png": "[encoded data removed]",
      "text/plain": [
       "<Figure size 432x288 with 1 Axes>"
      ]
     },
     "metadata": {
      "needs_background": "light"
     },
     "output_type": "display_data"
    }
   ],
   "source": [
    "import numpy as np\n",
    "import matplotlib.pyplot as pl\n",
    "%matplotlib inline\n",
    "\n",
    "\n",
    "\n",
    "X1 = np.array([0.27, 0.09, 0.00, 0.23, 0., 1.00, 0.32]);\n",
    "#\n",
    "#\n",
    "x = np.linspace(-10,10,100);\n",
    "# function to compute the sigmoid\n",
    "sigmoid = lambda x: 1/(1 + np.exp(-x));\n",
    "\n",
    "pl.plot(x,sigmoid(x),'r') # plot the line\n",
    "\n",
    "\n",
    "\n",
    "\n"
   ]
  },
  {
   "cell_type": "code",
   "execution_count": 2,
   "metadata": {},
   "outputs": [
    {
     "name": "stdout",
     "output_type": "stream",
     "text": [
      "y= [0.00581625]\n",
      "y= [0.98946628]\n",
      "y= [0.99187916]\n",
      "y= [0.01630753]\n"
     ]
    }
   ],
   "source": [
    "import numpy as np\n",
    "import matplotlib.pyplot as pl\n",
    "%matplotlib inline\n",
    "#\n",
    "# function to compute the sigmoid\n",
    "sigmoid = lambda x: 1/(1 + np.exp(-x));\n",
    "#\n",
    "################################################################################\n",
    "# This function implements the backpropagation algorithm for a simple 3-4-1 ANN\n",
    "#  W1 and W2 are the weight matrices of the respective layers:\n",
    "#   W1 is the weight matrix between the input layer and hidden layer\n",
    "#   W2 is the weight matrix between the hidden layer and output layer. \n",
    "#  X and D are the input and correct output of the training data (XOR), respectively.\n",
    "################################################################################\n",
    "def backprop(W1, W2, X, D):\n",
    "    alpha = 0.9; # learning rate\n",
    "    N=4;\n",
    "    for k in range(0,N):\n",
    "        x = X[k, :].T; #inputs from training data\n",
    "        #print(\"x=\",x)\n",
    "        d = D[k]; # correct output from training data\n",
    "        ##########################\n",
    "        # forward propagation step\n",
    "        ##########################\n",
    "        # calculate the weighted sum of hidden node\n",
    "        v1 = np.dot(W1,x);\n",
    "        #print(\"v1= \", v1)\n",
    "        #pass the weighted sum to the activation function, this gives the outputs from hidden layer\n",
    "        y1 = sigmoid(v1);\n",
    "        #print(\"y1= \", y1)\n",
    "        #calculate the weighted sum of the output layer\n",
    "        v = np.dot(W2,y1);\n",
    "        #print(\"v\", v)\n",
    "        # pass it to the activation function, this returns the output of the third layer\n",
    "        y = sigmoid(v);\n",
    "        #print(\"y=\",y)\n",
    "        #calculate the error, difference between correct output and computed output\n",
    "        e = d - y;\n",
    "        #print(\"e= \",e)\n",
    "        #calculate delta, derivative of the activation function times the error\n",
    "        # note that 𝜎′(𝑥)=𝜎(𝑥)∙(1− 𝜎(𝑥)) = y * (1-y)\n",
    "        delta = y*(1-y)*e; # element wise multiplication\n",
    "        #print(\"delta= \",delta)\n",
    "        ###########################\n",
    "        # Backward propagation step\n",
    "        ###########################\n",
    "        # propagate the output node delta, δ, backward, and calculate the deltas of the hidden layer.\n",
    "        e1 = np.dot(W2.T, delta);\n",
    "        #print(\"e1= \",e1)\n",
    "        delta1 = y1*(1-y1)*e1;  # element wise multiplication\n",
    "        #print(\"delta1= \",delta1)\n",
    "        #\n",
    "        # Adjust the weights according to the learning rule\n",
    "        delta1.shape=(4,1) # column vector of deltas for the hidden layer\n",
    "        x.shape=(1,3) # row vector of the current input\n",
    "        dW1 = alpha*np.dot(delta1,x);\n",
    "        W1 = W1 + dW1;\n",
    "        #\n",
    "        y1.shape = (1,4)\n",
    "        #print(y1.T.shape)\n",
    "        dW2 = alpha*np.dot(delta,y1);\n",
    "        W2 = W2 + dW2;\n",
    "    #\n",
    "    return W1, W2;\n",
    "#\n",
    "#################################\n",
    "# Testing backprop with XOR data\n",
    "#################################\n",
    "# inputs array\n",
    "X = np.array(\n",
    "    [ [0, 0, 1],\n",
    "      [0, 1, 1],\n",
    "      [1, 0, 1],\n",
    "      [1, 1, 1] \n",
    "    ]);\n",
    "#print(X)\n",
    "# correct output column vector\n",
    "D = np.array(\n",
    "            [ \n",
    "                [0], \n",
    "                [1], \n",
    "                [1], \n",
    "                [0]\n",
    "            ]);\n",
    "#print(D)\n",
    "# initialize the weights between input layer and hidden layer\n",
    "W1 = 2*np.random.rand(4, 3) - 1;\n",
    "# initialize the weights between hidden layer and output layer\n",
    "W2 = 2*np.random.rand(1, 4) - 1;\n",
    "#\n",
    "# run the backprop algorithm to compute the weights\n",
    "for epoch in range(1,10000): # train\n",
    "    W1, W2 = backprop(W1, W2, X, D);\n",
    "#\n",
    "# calculate the output of the network with computed weights \n",
    "N=4\n",
    "for k in range(0,N):\n",
    "    x = X[k, :].T; #inputs from training data\n",
    "    #print(\"x=\",x)\n",
    "    d = D[k]; # correct output from training data\n",
    "    ##########################\n",
    "    # forward propagation step\n",
    "    ##########################\n",
    "    # calculate the weighted sum of hidden node\n",
    "    v1 = np.dot(W1,x);\n",
    "    #print(\"v1= \", v1)\n",
    "    #pass the weighted sum to the activation function, this gives the outputs from hidden layer\n",
    "    y1 = sigmoid(v1);\n",
    "    #print(\"y1= \", y1)\n",
    "    #calculate the weighted sum of the output layer\n",
    "    v = np.dot(W2,y1);\n",
    "    #print(\"v\", v)\n",
    "    # pass it to the activation function, this returns the output of the third layer\n",
    "    y = sigmoid(v);\n",
    "    print(\"y=\",y)\n"
   ]
  },
  {
   "cell_type": "code",
   "execution_count": 3,
   "metadata": {},
   "outputs": [
    {
     "name": "stdout",
     "output_type": "stream",
     "text": [
      "[[ 1.68128978 -7.77217165 -0.16494356]\n",
      " [ 2.57776498 -1.46552691  1.34858232]\n",
      " [-7.23230938 -7.25652454  2.49919134]\n",
      " [-6.83759914 -5.70000582  8.64164952]]\n",
      "[[  3.99059824  -4.61286272 -11.33856822   7.16882793]]\n",
      "y= [0.00581625]\n",
      "y= [0.98946628]\n",
      "y= [0.99187916]\n",
      "y= [0.01630753]\n"
     ]
    }
   ],
   "source": [
    "print(W1)\n",
    "print(W2)\n",
    "N=4;\n",
    "for k in range(0,N):\n",
    "    x = X[k, :].T; #inputs from training data\n",
    "    ##########################\n",
    "    # forward propagation step\n",
    "    ##########################\n",
    "    # calculate the weighted sum of hidden node\n",
    "    v1 = np.dot(W1,x);\n",
    "    #pass the weighted sum to the activation function, this gives the outputs from hidden layer\n",
    "    y1 = sigmoid(v1);\n",
    "    #calculate the weighted sum of the output layer\n",
    "    v = np.dot(W2,y1);\n",
    "    # pass it to the activation function, this returns the output of the third layer\n",
    "    y = sigmoid(v);\n",
    "    print(\"y=\",y)\n"
   ]
  },
  {
   "cell_type": "code",
   "execution_count": null,
   "metadata": {},
   "outputs": [],
   "source": []
  }
 ],
 "metadata": {
  "kernelspec": {
   "display_name": "Python [conda env:comp258]",
   "language": "python",
   "name": "conda-env-comp258-py"
  },
  "language_info": {
   "codemirror_mode": {
    "name": "ipython",
    "version": 3
   },
   "file_extension": ".py",
   "mimetype": "text/x-python",
   "name": "python",
   "nbconvert_exporter": "python",
   "pygments_lexer": "ipython3",
   "version": "3.8.12"
  }
 },
 "nbformat": 4,
 "nbformat_minor": 4
}
