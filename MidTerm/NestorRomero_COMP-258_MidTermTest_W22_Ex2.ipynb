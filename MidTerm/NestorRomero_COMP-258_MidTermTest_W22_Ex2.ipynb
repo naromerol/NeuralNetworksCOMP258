{
 "cells": [
  {
   "cell_type": "markdown",
   "id": "2888e651",
   "metadata": {},
   "source": [
    "# NEURAL NETWORKS - COMP258\n",
    "## MIDTERM EXAM - EXERCISE 2\n",
    "## Nestor Romero - 301133331"
   ]
  },
  {
   "cell_type": "code",
   "execution_count": 1,
   "id": "f27d2d6b",
   "metadata": {},
   "outputs": [],
   "source": [
    "# Initial library import\n",
    "import tensorflow as tf\n",
    "from tensorflow import keras\n",
    "import pandas as pd\n",
    "import numpy as np\n",
    "\n",
    "# Sklearn imports for preprocessing and balan\n",
    "from sklearn import preprocessing\n",
    "from sklearn.utils import resample\n",
    "\n",
    "from sklearn.model_selection import train_test_split\n",
    "\n",
    "%matplotlib inline"
   ]
  },
  {
   "cell_type": "code",
   "execution_count": 2,
   "id": "ae52d9e8",
   "metadata": {},
   "outputs": [
    {
     "data": {
      "text/plain": [
       "'2.3.0'"
      ]
     },
     "execution_count": 2,
     "metadata": {},
     "output_type": "execute_result"
    }
   ],
   "source": [
    "tf.__version__"
   ]
  },
  {
   "cell_type": "code",
   "execution_count": 3,
   "id": "2938490d",
   "metadata": {},
   "outputs": [
    {
     "data": {
      "text/plain": [
       "'2.4.0'"
      ]
     },
     "execution_count": 3,
     "metadata": {},
     "output_type": "execute_result"
    }
   ],
   "source": [
    "keras.__version__"
   ]
  },
  {
   "cell_type": "code",
   "execution_count": 4,
   "id": "ca147308",
   "metadata": {},
   "outputs": [
    {
     "name": "stdout",
     "output_type": "stream",
     "text": [
      "GENERAL DATASET INFORMATION\n",
      "        pregnancies     glucose  blood_pressure  skin_thickness     insulin  \\\n",
      "count   768.000000  768.000000      768.000000      768.000000  768.000000   \n",
      "mean      3.845052  120.894531       69.105469       20.536458   79.799479   \n",
      "std       3.369578   31.972618       19.355807       15.952218  115.244002   \n",
      "min       0.000000    0.000000        0.000000        0.000000    0.000000   \n",
      "25%       1.000000   99.000000       62.000000        0.000000    0.000000   \n",
      "50%       3.000000  117.000000       72.000000       23.000000   30.500000   \n",
      "75%       6.000000  140.250000       80.000000       32.000000  127.250000   \n",
      "max      17.000000  199.000000      122.000000       99.000000  846.000000   \n",
      "\n",
      "              bmi  pedigree_fn         age       class  \n",
      "count  768.000000   768.000000  768.000000  768.000000  \n",
      "mean    31.992578     0.471876   33.240885    0.348958  \n",
      "std      7.884160     0.331329   11.760232    0.476951  \n",
      "min      0.000000     0.078000   21.000000    0.000000  \n",
      "25%     27.300000     0.243750   24.000000    0.000000  \n",
      "50%     32.000000     0.372500   29.000000    0.000000  \n",
      "75%     36.600000     0.626250   41.000000    1.000000  \n",
      "max     67.100000     2.420000   81.000000    1.000000   \n",
      "\n",
      "DATA SAMPLE\n",
      "    pregnancies  glucose  blood_pressure  skin_thickness  insulin   bmi  \\\n",
      "0            6      148              72              35        0  33.6   \n",
      "1            1       85              66              29        0  26.6   \n",
      "2            8      183              64               0        0  23.3   \n",
      "3            1       89              66              23       94  28.1   \n",
      "4            0      137              40              35      168  43.1   \n",
      "\n",
      "   pedigree_fn  age  class  \n",
      "0        0.627   50      1  \n",
      "1        0.351   31      0  \n",
      "2        0.672   32      1  \n",
      "3        0.167   21      0  \n",
      "4        2.288   33      1   \n",
      "\n",
      "CLASS VALUE COUNTS\n",
      " 0    500\n",
      "1    268\n",
      "Name: class, dtype: int64 \n",
      "\n",
      "<class 'numpy.ndarray'>\n",
      "<class 'numpy.ndarray'>\n",
      "Inputs shape: (768, 8)\n",
      "Outputs shape: (768,)\n",
      "\n",
      "DATA SAMPLE BEFORE & AFTER PREPROCESSING\n",
      "[[  6.    148.     72.     35.      0.     33.6     0.627  50.   ]\n",
      " [  1.     85.     66.     29.      0.     26.6     0.351  31.   ]] \n",
      " [[0.35294118 0.74371859 0.59016393 0.35353535 0.         0.50074516\n",
      "  0.23441503 0.48333333]\n",
      " [0.05882353 0.42713568 0.54098361 0.29292929 0.         0.39642325\n",
      "  0.11656704 0.16666667]]\n"
     ]
    }
   ],
   "source": [
    "######## 1. LOAD DATASET FILE INTO DATA FRAME\n",
    "\n",
    "diabetes_df = pd.read_csv('diabetes_noheaders.csv',\n",
    "                          names=['pregnancies','glucose','blood_pressure','skin_thickness', \n",
    "                                 'insulin', 'bmi', 'pedigree_fn', 'age', 'class'])\n",
    "print('GENERAL DATASET INFORMATION\\n', diabetes_df.describe(),'\\n')\n",
    "print('DATA SAMPLE\\n', diabetes_df.head(), '\\n')\n",
    "print('CLASS VALUE COUNTS\\n', diabetes_df['class'].value_counts(), '\\n')\n",
    "\n",
    "########################################\n",
    "# >> Balance classes with upsampling  >> Makes the problem worst\n",
    "# print('>> BALANCING CLASSES')\n",
    "# diabetes_majority = diabetes_df[diabetes_df['class']==0]\n",
    "# diabetes_minority = diabetes_df[diabetes_df['class']==1]\n",
    "\n",
    "# # Upsample minority class (1)\n",
    "# df_minority_upsampled = resample(diabetes_minority, \n",
    "#                                  replace=True,                # sample with replacement - upsample\n",
    "#                                  n_samples=diabetes_majority.shape[0],    # to match majority class\n",
    "#                                  random_state=301133331)      \n",
    " \n",
    "# # Combine majority class with upsampled minority class\n",
    "# # diabetes_df = pd.concat([diabetes_majority, df_minority_upsampled])\n",
    " \n",
    "# # Display new class counts\n",
    "# print(diabetes_df['class'].value_counts())\n",
    "\n",
    "########################################\n",
    "# Create inputs and outputs\n",
    "X_init = diabetes_df.iloc[:,0:8].to_numpy() #Input values (n,8)\n",
    "y = diabetes_df['class'].to_numpy()   #Output values (n)\n",
    "\n",
    "print(type(X_init))\n",
    "print(type(y))\n",
    "\n",
    "print(f'Inputs shape: {X_init.shape}')\n",
    "print(f'Outputs shape: {y.shape}')\n",
    "# print(X_init[0].shape)\n",
    "# print(X_init[0])\n",
    "\n",
    "########################################\n",
    "# >> Scale values\n",
    "# scaler = preprocessing.StandardScaler() # Stddist values\n",
    "scaler = preprocessing.MinMaxScaler() # Values in range 0-1\n",
    "X = scaler.fit_transform(X_init)\n",
    "\n",
    "print()\n",
    "print('DATA SAMPLE BEFORE & AFTER PREPROCESSING')\n",
    "print(X_init[:2],'\\n', X[:2])\n",
    "\n",
    "########################################\n",
    "# Create training and test datasets (80-20 split)\n",
    "X_train, X_test, y_train, y_test = train_test_split(\n",
    "    X, y, test_size=0.2, random_state=301133331)"
   ]
  },
  {
   "cell_type": "code",
   "execution_count": 5,
   "id": "727f3116",
   "metadata": {},
   "outputs": [],
   "source": [
    "######## 2. DESIGN MLP NET - SEQUENTIAL API\n",
    "\n",
    "model = keras.models.Sequential()\n",
    "model.add(keras.layers.Dense(32, activation=\"relu\", input_shape=(8,)))\n",
    "model.add(keras.layers.Dense(16, activation=\"relu\"))\n",
    "model.add(keras.layers.Dense(1, activation=\"sigmoid\"))\n"
   ]
  },
  {
   "cell_type": "code",
   "execution_count": 6,
   "id": "b7773097",
   "metadata": {},
   "outputs": [
    {
     "name": "stdout",
     "output_type": "stream",
     "text": [
      "Model: \"sequential\"\n",
      "_________________________________________________________________\n",
      "Layer (type)                 Output Shape              Param #   \n",
      "=================================================================\n",
      "dense (Dense)                (None, 32)                288       \n",
      "_________________________________________________________________\n",
      "dense_1 (Dense)              (None, 16)                528       \n",
      "_________________________________________________________________\n",
      "dense_2 (Dense)              (None, 1)                 17        \n",
      "=================================================================\n",
      "Total params: 833\n",
      "Trainable params: 833\n",
      "Non-trainable params: 0\n",
      "_________________________________________________________________\n",
      "None\n"
     ]
    }
   ],
   "source": [
    "print(model.summary())"
   ]
  },
  {
   "cell_type": "code",
   "execution_count": 7,
   "id": "0b17db95",
   "metadata": {},
   "outputs": [],
   "source": [
    "######## 3. COMPILE MODEL WITH BINARY CROSS ENTROPY FOR LOSS\n",
    "# optimizer = keras.optimizers.Adam(learning_rate=0.01) # default 0.001\n",
    "\n",
    "# model.compile(loss=\"binary_crossentropy\", \n",
    "#               optimizer=\"sgd\",\n",
    "#               metrics=[\"accuracy\"])\n",
    "\n",
    "np.random.seed(42)\n",
    "tf.random.set_seed(42)\n",
    "model.compile(loss=\"binary_crossentropy\", optimizer=\"adam\", metrics=['accuracy'])\n"
   ]
  },
  {
   "cell_type": "code",
   "execution_count": 8,
   "id": "3f4de794",
   "metadata": {},
   "outputs": [
    {
     "name": "stdout",
     "output_type": "stream",
     "text": [
      "[[0.47058824 0.52763819 0.81967213 ... 0.64530551 0.06874466 0.4       ]\n",
      " [0.23529412 0.47236181 0.53278689 ... 0.3681073  0.02988898 0.        ]\n",
      " [0.         0.89949749 0.73770492 ... 0.65722802 0.25960717 0.03333333]\n",
      " ...\n",
      " [0.11764706 0.77889447 0.42622951 ... 0.57675112 0.06917165 0.06666667]\n",
      " [0.         0.47738693 0.52459016 ... 0.66467958 0.12297182 0.01666667]\n",
      " [0.05882353 0.94974874 0.49180328 ... 0.4485842  0.13663535 0.63333333]]\n"
     ]
    }
   ],
   "source": [
    "# weight examination\n",
    "# hidden_layer1 = model.layers[1]\n",
    "# weights_hl1, biases_hl1 = hidden_layer1.get_weights()\n",
    "# print(weights_hl1.shape)\n",
    "# print(weights_hl1[0])\n",
    "# print(biases_hl1)\n",
    "# print(biases_hl1.shape)\n",
    "\n",
    "print(X_train)\n",
    "# print(y_train)\n",
    "# print(X_test)\n",
    "# print(y_test)"
   ]
  },
  {
   "cell_type": "code",
   "execution_count": 9,
   "id": "9cb779d0",
   "metadata": {},
   "outputs": [
    {
     "name": "stdout",
     "output_type": "stream",
     "text": [
      "Epoch 1/30\n",
      "20/20 [==============================] - 0s 9ms/step - loss: nan - accuracy: 0.6498 - val_loss: nan - val_accuracy: 0.6558\n",
      "Epoch 2/30\n",
      "20/20 [==============================] - 0s 3ms/step - loss: nan - accuracy: 0.6498 - val_loss: nan - val_accuracy: 0.6558\n",
      "Epoch 3/30\n",
      "20/20 [==============================] - 0s 2ms/step - loss: nan - accuracy: 0.6498 - val_loss: nan - val_accuracy: 0.6558\n",
      "Epoch 4/30\n",
      "20/20 [==============================] - 0s 3ms/step - loss: nan - accuracy: 0.6498 - val_loss: nan - val_accuracy: 0.6558\n",
      "Epoch 5/30\n",
      "20/20 [==============================] - 0s 3ms/step - loss: nan - accuracy: 0.6498 - val_loss: nan - val_accuracy: 0.6558\n",
      "Epoch 6/30\n",
      "20/20 [==============================] - 0s 2ms/step - loss: nan - accuracy: 0.6498 - val_loss: nan - val_accuracy: 0.6558\n",
      "Epoch 7/30\n",
      "20/20 [==============================] - 0s 3ms/step - loss: nan - accuracy: 0.6498 - val_loss: nan - val_accuracy: 0.6558\n",
      "Epoch 8/30\n",
      "20/20 [==============================] - 0s 3ms/step - loss: nan - accuracy: 0.6498 - val_loss: nan - val_accuracy: 0.6558\n",
      "Epoch 9/30\n",
      "20/20 [==============================] - 0s 3ms/step - loss: nan - accuracy: 0.6498 - val_loss: nan - val_accuracy: 0.6558\n",
      "Epoch 10/30\n",
      "20/20 [==============================] - 0s 3ms/step - loss: nan - accuracy: 0.6498 - val_loss: nan - val_accuracy: 0.6558\n",
      "Epoch 11/30\n",
      "20/20 [==============================] - 0s 2ms/step - loss: nan - accuracy: 0.6498 - val_loss: nan - val_accuracy: 0.6558\n",
      "Epoch 12/30\n",
      "20/20 [==============================] - 0s 3ms/step - loss: nan - accuracy: 0.6498 - val_loss: nan - val_accuracy: 0.6558\n",
      "Epoch 13/30\n",
      "20/20 [==============================] - 0s 2ms/step - loss: nan - accuracy: 0.6498 - val_loss: nan - val_accuracy: 0.6558\n",
      "Epoch 14/30\n",
      "20/20 [==============================] - 0s 3ms/step - loss: nan - accuracy: 0.6498 - val_loss: nan - val_accuracy: 0.6558\n",
      "Epoch 15/30\n",
      "20/20 [==============================] - 0s 3ms/step - loss: nan - accuracy: 0.6498 - val_loss: nan - val_accuracy: 0.6558\n",
      "Epoch 16/30\n",
      "20/20 [==============================] - 0s 2ms/step - loss: nan - accuracy: 0.6498 - val_loss: nan - val_accuracy: 0.6558\n",
      "Epoch 17/30\n",
      "20/20 [==============================] - 0s 3ms/step - loss: nan - accuracy: 0.6498 - val_loss: nan - val_accuracy: 0.6558\n",
      "Epoch 18/30\n",
      "20/20 [==============================] - 0s 2ms/step - loss: nan - accuracy: 0.6498 - val_loss: nan - val_accuracy: 0.6558\n",
      "Epoch 19/30\n",
      "20/20 [==============================] - 0s 3ms/step - loss: nan - accuracy: 0.6498 - val_loss: nan - val_accuracy: 0.6558\n",
      "Epoch 20/30\n",
      "20/20 [==============================] - 0s 2ms/step - loss: nan - accuracy: 0.6498 - val_loss: nan - val_accuracy: 0.6558\n",
      "Epoch 21/30\n",
      "20/20 [==============================] - 0s 2ms/step - loss: nan - accuracy: 0.6498 - val_loss: nan - val_accuracy: 0.6558\n",
      "Epoch 22/30\n",
      "20/20 [==============================] - 0s 3ms/step - loss: nan - accuracy: 0.6498 - val_loss: nan - val_accuracy: 0.6558\n",
      "Epoch 23/30\n",
      "20/20 [==============================] - 0s 2ms/step - loss: nan - accuracy: 0.6498 - val_loss: nan - val_accuracy: 0.6558\n",
      "Epoch 24/30\n",
      "20/20 [==============================] - 0s 3ms/step - loss: nan - accuracy: 0.6498 - val_loss: nan - val_accuracy: 0.6558\n",
      "Epoch 25/30\n",
      "20/20 [==============================] - 0s 2ms/step - loss: nan - accuracy: 0.6498 - val_loss: nan - val_accuracy: 0.6558\n",
      "Epoch 26/30\n",
      "20/20 [==============================] - 0s 3ms/step - loss: nan - accuracy: 0.6498 - val_loss: nan - val_accuracy: 0.6558\n",
      "Epoch 27/30\n",
      "20/20 [==============================] - 0s 3ms/step - loss: nan - accuracy: 0.6498 - val_loss: nan - val_accuracy: 0.6558\n",
      "Epoch 28/30\n",
      "20/20 [==============================] - 0s 3ms/step - loss: nan - accuracy: 0.6498 - val_loss: nan - val_accuracy: 0.6558\n",
      "Epoch 29/30\n",
      "20/20 [==============================] - 0s 2ms/step - loss: nan - accuracy: 0.6498 - val_loss: nan - val_accuracy: 0.6558\n",
      "Epoch 30/30\n",
      "20/20 [==============================] - 0s 3ms/step - loss: nan - accuracy: 0.6498 - val_loss: nan - val_accuracy: 0.6558\n"
     ]
    }
   ],
   "source": [
    "######## 4. FIT DATA INTO THE MODEL\n",
    "results = model.fit(X_train, y_train, epochs=30, validation_data=(X_test, y_test))\n"
   ]
  },
  {
   "cell_type": "code",
   "execution_count": 10,
   "id": "6d8b56ad",
   "metadata": {},
   "outputs": [
    {
     "data": {
      "image/png": "[encoded data removed]",
      "text/plain": [
       "<Figure size 576x360 with 1 Axes>"
      ]
     },
     "metadata": {
      "needs_background": "light"
     },
     "output_type": "display_data"
    }
   ],
   "source": [
    "######## 4b. PLOT MODEL PERFORMANCE WITH TEST AND VALIDATION DATA\n",
    "import pandas as pd\n",
    "import matplotlib.pyplot as plt\n",
    "\n",
    "pd.DataFrame(results.history).plot(figsize=(8, 5))\n",
    "plt.grid(True)\n",
    "plt.gca().set_ylim(0, 1)\n",
    "plt.show()\n"
   ]
  },
  {
   "cell_type": "code",
   "execution_count": 11,
   "id": "6e4522c0",
   "metadata": {},
   "outputs": [
    {
     "name": "stdout",
     "output_type": "stream",
     "text": [
      "5/5 [==============================] - 0s 800us/step - loss: nan - accuracy: 0.6558\n"
     ]
    },
    {
     "data": {
      "text/plain": [
       "[nan, 0.6558441519737244]"
      ]
     },
     "execution_count": 11,
     "metadata": {},
     "output_type": "execute_result"
    }
   ],
   "source": [
    "######## 5. EVALUATE MODEL\n",
    "model.evaluate(X_test, y_test)\n"
   ]
  },
  {
   "cell_type": "code",
   "execution_count": 12,
   "id": "89e49d8c",
   "metadata": {},
   "outputs": [
    {
     "name": "stdout",
     "output_type": "stream",
     "text": [
      "x = [0.47058824 0.88442211 0.73770492 0.34343434 0.35460993 0.50223547\n",
      " 0.16609735 0.61666667],\n",
      "y = 1,\tpredicted_value = [0]\n",
      "\n",
      "x = [0.47058824 0.56281407 0.59016393 0.         0.         0.35171386\n",
      " 0.32536294 0.61666667],\n",
      "y = 0,\tpredicted_value = [0]\n",
      "\n",
      "x = [0.58823529 0.80904523 0.55737705 0.23232323 0.15602837 0.38002981\n",
      " 0.1058924  0.43333333],\n",
      "y = 1,\tpredicted_value = [0]\n",
      "\n",
      "x = [0.41176471 0.79899497 0.52459016 0.         0.         0.40834575\n",
      " 0.09222886 0.31666667],\n",
      "y = 0,\tpredicted_value = [0]\n",
      "\n",
      "x = [0.17647059 0.51256281 0.36065574 0.2020202  0.11111111 0.45901639\n",
      " 0.13748933 0.08333333],\n",
      "y = 0,\tpredicted_value = [0]\n",
      "\n",
      "x = [0.64705882 0.69346734 0.62295082 0.         0.         0.4947839\n",
      " 0.14602904 0.23333333],\n",
      "y = 0,\tpredicted_value = [0]\n",
      "\n",
      "x = [0.         0.5879397  0.6557377  0.31313131 0.06264775 0.67362146\n",
      " 0.00469684 0.05      ],\n",
      "y = 0,\tpredicted_value = [0]\n",
      "\n",
      "x = [0.70588235 0.70351759 0.67213115 0.43434343 0.38416076 0.58420268\n",
      " 0.19214347 0.61666667],\n",
      "y = 1,\tpredicted_value = [0]\n",
      "\n",
      "x = [0.         0.69346734 0.         0.         0.         0.54098361\n",
      " 0.36507259 0.06666667],\n",
      "y = 1,\tpredicted_value = [0]\n",
      "\n",
      "x = [0.05882353 0.56281407 0.59016393 0.3030303  0.20803783 0.51266766\n",
      " 0.19214347 0.06666667],\n",
      "y = 0,\tpredicted_value = [0]\n",
      "\n"
     ]
    }
   ],
   "source": [
    "######## 6. TEST MODEL PREDICTION WITH DATA SAMPLE\n",
    "sample_size = 10\n",
    "X_sample = X_test[:sample_size]\n",
    "# print(model.predict(X_sample))\n",
    "y_predicted = (model.predict(X_sample) > 0.5).astype(\"int32\")\n",
    "\n",
    "for i in range(0, sample_size):\n",
    "    print(f'x = {X_test[i]},\\ny = {y_test[i]},\\tpredicted_value = {y_predicted[i]}\\n')\n",
    "    "
   ]
  },
  {
   "cell_type": "code",
   "execution_count": 13,
   "id": "2c652f2e",
   "metadata": {},
   "outputs": [
    {
     "name": "stdout",
     "output_type": "stream",
     "text": [
      "Epoch 1/30\n",
      "20/20 [==============================] - 0s 8ms/step - loss: nan - accuracy: 0.6498 - val_loss: nan - val_accuracy: 0.6558\n",
      "Epoch 2/30\n",
      "20/20 [==============================] - 0s 2ms/step - loss: nan - accuracy: 0.6498 - val_loss: nan - val_accuracy: 0.6558\n",
      "Epoch 3/30\n",
      "20/20 [==============================] - 0s 2ms/step - loss: nan - accuracy: 0.6498 - val_loss: nan - val_accuracy: 0.6558\n",
      "Epoch 4/30\n",
      "20/20 [==============================] - 0s 2ms/step - loss: nan - accuracy: 0.6498 - val_loss: nan - val_accuracy: 0.6558\n",
      "Epoch 5/30\n",
      "20/20 [==============================] - 0s 2ms/step - loss: nan - accuracy: 0.6498 - val_loss: nan - val_accuracy: 0.6558\n",
      "Epoch 6/30\n",
      "20/20 [==============================] - 0s 3ms/step - loss: nan - accuracy: 0.6498 - val_loss: nan - val_accuracy: 0.6558\n",
      "Epoch 7/30\n",
      "20/20 [==============================] - 0s 3ms/step - loss: nan - accuracy: 0.6498 - val_loss: nan - val_accuracy: 0.6558\n",
      "Epoch 8/30\n",
      "20/20 [==============================] - 0s 2ms/step - loss: nan - accuracy: 0.6498 - val_loss: nan - val_accuracy: 0.6558\n",
      "Epoch 9/30\n",
      "20/20 [==============================] - 0s 2ms/step - loss: nan - accuracy: 0.6498 - val_loss: nan - val_accuracy: 0.6558\n",
      "Epoch 10/30\n",
      "20/20 [==============================] - 0s 2ms/step - loss: nan - accuracy: 0.6498 - val_loss: nan - val_accuracy: 0.6558\n",
      "Epoch 11/30\n",
      "20/20 [==============================] - 0s 3ms/step - loss: nan - accuracy: 0.6498 - val_loss: nan - val_accuracy: 0.6558\n",
      "Epoch 12/30\n",
      "20/20 [==============================] - 0s 5ms/step - loss: nan - accuracy: 0.6498 - val_loss: nan - val_accuracy: 0.6558\n",
      "Epoch 13/30\n",
      "20/20 [==============================] - 0s 5ms/step - loss: nan - accuracy: 0.6498 - val_loss: nan - val_accuracy: 0.6558\n",
      "Epoch 14/30\n",
      "20/20 [==============================] - 0s 4ms/step - loss: nan - accuracy: 0.6498 - val_loss: nan - val_accuracy: 0.6558\n",
      "Epoch 15/30\n",
      "20/20 [==============================] - 0s 3ms/step - loss: nan - accuracy: 0.6498 - val_loss: nan - val_accuracy: 0.6558\n",
      "Epoch 16/30\n",
      "20/20 [==============================] - 0s 2ms/step - loss: nan - accuracy: 0.6498 - val_loss: nan - val_accuracy: 0.6558\n",
      "Epoch 17/30\n",
      "20/20 [==============================] - 0s 3ms/step - loss: nan - accuracy: 0.6498 - val_loss: nan - val_accuracy: 0.6558\n",
      "Epoch 18/30\n",
      "20/20 [==============================] - 0s 3ms/step - loss: nan - accuracy: 0.6498 - val_loss: nan - val_accuracy: 0.6558\n",
      "Epoch 19/30\n",
      "20/20 [==============================] - 0s 3ms/step - loss: nan - accuracy: 0.6498 - val_loss: nan - val_accuracy: 0.6558\n",
      "Epoch 20/30\n",
      "20/20 [==============================] - 0s 3ms/step - loss: nan - accuracy: 0.6498 - val_loss: nan - val_accuracy: 0.6558\n",
      "Epoch 21/30\n",
      "20/20 [==============================] - 0s 3ms/step - loss: nan - accuracy: 0.6498 - val_loss: nan - val_accuracy: 0.6558\n",
      "Epoch 22/30\n",
      "20/20 [==============================] - 0s 3ms/step - loss: nan - accuracy: 0.6498 - val_loss: nan - val_accuracy: 0.6558\n",
      "Epoch 23/30\n",
      "20/20 [==============================] - 0s 3ms/step - loss: nan - accuracy: 0.6498 - val_loss: nan - val_accuracy: 0.6558\n",
      "Epoch 24/30\n",
      "20/20 [==============================] - 0s 2ms/step - loss: nan - accuracy: 0.6498 - val_loss: nan - val_accuracy: 0.6558\n",
      "Epoch 25/30\n",
      "20/20 [==============================] - 0s 4ms/step - loss: nan - accuracy: 0.6498 - val_loss: nan - val_accuracy: 0.6558\n",
      "Epoch 26/30\n",
      "20/20 [==============================] - 0s 5ms/step - loss: nan - accuracy: 0.6498 - val_loss: nan - val_accuracy: 0.6558\n",
      "Epoch 27/30\n",
      "20/20 [==============================] - 0s 5ms/step - loss: nan - accuracy: 0.6498 - val_loss: nan - val_accuracy: 0.6558\n",
      "Epoch 28/30\n",
      "20/20 [==============================] - 0s 4ms/step - loss: nan - accuracy: 0.6498 - val_loss: nan - val_accuracy: 0.6558\n",
      "Epoch 29/30\n",
      "20/20 [==============================] - 0s 3ms/step - loss: nan - accuracy: 0.6498 - val_loss: nan - val_accuracy: 0.6558\n",
      "Epoch 30/30\n",
      "20/20 [==============================] - 0s 3ms/step - loss: nan - accuracy: 0.6498 - val_loss: nan - val_accuracy: 0.6558\n",
      "5/5 [==============================] - 0s 800us/step - loss: nan - accuracy: 0.6558\n"
     ]
    },
    {
     "data": {
      "text/plain": [
       "[nan, 0.6558441519737244]"
      ]
     },
     "execution_count": 13,
     "metadata": {},
     "output_type": "execute_result"
    }
   ],
   "source": [
    "######## 7. CHANGES TO THE MODEL\n",
    "model2 = keras.models.Sequential()\n",
    "model2.add(keras.layers.Input(shape=(8,)))\n",
    "model2.add(keras.layers.Dense(16, activation=\"relu\"))\n",
    "model2.add(keras.layers.Dense(16, activation=\"relu\"))\n",
    "model2.add(keras.layers.Dense(16, activation=\"relu\"))\n",
    "model2.add(keras.layers.Dense(1, activation=\"sigmoid\"))\n",
    "\n",
    "optimizer2 = keras.optimizers.Adam(learning_rate=0.01) # default 0.001\n",
    "model2.compile(loss=\"binary_crossentropy\", optimizer=optimizer2, metrics=[\"accuracy\"])\n",
    "model2.fit(X_train, y_train, epochs=30, validation_data=(X_test, y_test))\n",
    "model2.evaluate(X_test, y_test)"
   ]
  },
  {
   "cell_type": "markdown",
   "id": "bc7a412e",
   "metadata": {},
   "source": [
    "Despite considerable changes in the model configuration, the accuracy didn't improve dramaticaly in my case. I could not detect if my environment is causing problems with Keras.\n",
    "\n",
    "I couldn't detect the reason why the loss function kept being reported as nan for all the different tests and configurations I did."
   ]
  }
 ],
 "metadata": {
  "kernelspec": {
   "display_name": "Python [conda env:comp258]",
   "language": "python",
   "name": "conda-env-comp258-py"
  },
  "language_info": {
   "codemirror_mode": {
    "name": "ipython",
    "version": 3
   },
   "file_extension": ".py",
   "mimetype": "text/x-python",
   "name": "python",
   "nbconvert_exporter": "python",
   "pygments_lexer": "ipython3",
   "version": "3.8.12"
  }
 },
 "nbformat": 4,
 "nbformat_minor": 5
}
