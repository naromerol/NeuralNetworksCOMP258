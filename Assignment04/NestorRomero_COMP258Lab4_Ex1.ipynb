{
 "cells": [
  {
   "cell_type": "markdown",
   "metadata": {},
   "source": [
    "## COMP258 - NEURAL NETWORKS\n",
    "## ASSIGNMENT 4\n",
    "## NESTOR ROMERO - 301133331"
   ]
  },
  {
   "cell_type": "markdown",
   "metadata": {},
   "source": [
    "## DATA PREPARATION"
   ]
  },
  {
   "cell_type": "code",
   "execution_count": 1,
   "metadata": {},
   "outputs": [
    {
     "name": "stdout",
     "output_type": "stream",
     "text": [
      "Text Sample Length: 175718\n",
      "\n",
      ":: Sample Code Extract ::\n",
      "stimator.partial_fit(x, y, np.array((0, 1)))\n",
      "    return estimator\n",
      "\n",
      "\n",
      "def _predict_binary(estimator, x):\n",
      "    \"\"\"make predictions using a single binary estimator.\"\"\"\n",
      "    if is_regressor(estimator):\n",
      "        return estimator.predict(x)\n",
      "    try:\n",
      "        sc\n"
     ]
    }
   ],
   "source": [
    "# Read files and store sample text on disk\n",
    "\n",
    "text_sample = ''\n",
    "# Text samples extracted from ScikitLearn Github Repository\n",
    "files = ['data/multiclass.txt', 'data/multioutput.txt', 'data/naive_bayes.txt', 'data/multilayer_perceptron.txt', 'data/mycode.txt']\n",
    "for file in files:\n",
    "    with open(file, 'r') as f:\n",
    "        text_sample += (f.read()).lower()\n",
    "        \n",
    "# Temp: Store sample text on disk\n",
    "# with open('data/text_sample.txt', 'w') as fw:\n",
    "#     fw.write(text_sample)\n",
    "\n",
    "print(f'Text Sample Length: {len(text_sample)}\\n')\n",
    "print(':: Sample Code Extract ::')\n",
    "print(text_sample[1500:1750])\n"
   ]
  },
  {
   "cell_type": "code",
   "execution_count": 2,
   "metadata": {},
   "outputs": [
    {
     "name": "stdout",
     "output_type": "stream",
     "text": [
      "71\n"
     ]
    },
    {
     "data": {
      "text/plain": [
       "'\\t\\n !\"#%&\\'()*+,-./0123456789:;<=>?@[\\\\]_`abcdefghijklmnopqrstuvwxyz{|}~·∑'"
      ]
     },
     "execution_count": 2,
     "metadata": {},
     "output_type": "execute_result"
    }
   ],
   "source": [
    "alphabet = \"\".join(sorted(set(text_sample)))\n",
    "print(len(alphabet))\n",
    "alphabet"
   ]
  },
  {
   "cell_type": "code",
   "execution_count": 3,
   "metadata": {},
   "outputs": [],
   "source": [
    "import tensorflow as tf\n",
    "from tensorflow import keras\n",
    "import numpy as np\n",
    "\n",
    "np.random.seed(301133331)\n",
    "tf.random.set_seed(301133331)"
   ]
  },
  {
   "cell_type": "code",
   "execution_count": 4,
   "metadata": {},
   "outputs": [
    {
     "name": "stdout",
     "output_type": "stream",
     "text": [
      "71\n",
      "175718\n"
     ]
    }
   ],
   "source": [
    "# Tokenization the text at a single character level 1 token per vocabulary word\n",
    "chars = sorted(list(set(text_sample)))\n",
    "char_to_int = dict((c, i) for i, c in enumerate(chars))\n",
    "int_to_char = dict((i, c) for i, c in enumerate(chars))\n",
    "\n",
    "dataset_size = len(text_sample)\n",
    "num_chars = len(chars)\n",
    "\n",
    "print(num_chars)\n",
    "print(dataset_size)"
   ]
  },
  {
   "cell_type": "code",
   "execution_count": 5,
   "metadata": {},
   "outputs": [
    {
     "name": "stdout",
     "output_type": "stream",
     "text": [
      "Total Patterns:  175618\n"
     ]
    }
   ],
   "source": [
    "from keras.utils import np_utils\n",
    "\n",
    "# prepare the dataset of input to output pairs encoded as integers\n",
    "seq_length = 100\n",
    "dataX = []\n",
    "dataY = []\n",
    "\n",
    "for i in range(0, dataset_size - seq_length, 1):\n",
    "\tseq_in = text_sample[i:i + seq_length]\n",
    "\tseq_out = text_sample[i + seq_length]\n",
    "\t# print(seq_in)\n",
    "\t# print(seq_out)\n",
    "\tdataX.append([char_to_int[char] for char in seq_in])\n",
    "\tdataY.append(char_to_int[seq_out])\n",
    "\t\n",
    "num_patterns = len(dataX)\n",
    "print (\"Total Patterns: \", num_patterns)\n",
    "# reshape X to be [samples, time steps, features]\n",
    "X = np.reshape(dataX, (num_patterns, seq_length, 1))\n",
    "\n",
    "# normalize\n",
    "X = X / float(num_chars)\n",
    "\n",
    "# one hot encode the output variable [0,num_chars-1]\n",
    "y = np_utils.to_categorical(dataY)\n",
    "# dataY\n",
    "# X"
   ]
  },
  {
   "cell_type": "code",
   "execution_count": 6,
   "metadata": {},
   "outputs": [
    {
     "data": {
      "text/plain": [
       "(175618, 71)"
      ]
     },
     "execution_count": 6,
     "metadata": {},
     "output_type": "execute_result"
    }
   ],
   "source": [
    "y.min()\n",
    "X.shape\n",
    "y.shape\n",
    "\n",
    "# dataY[1:5]\n",
    "# y[1:5]"
   ]
  },
  {
   "cell_type": "markdown",
   "metadata": {},
   "source": [
    "## MODELING"
   ]
  },
  {
   "cell_type": "code",
   "execution_count": 7,
   "metadata": {},
   "outputs": [],
   "source": [
    "from keras.models import Sequential\n",
    "from keras.layers import Dense\n",
    "from keras.layers import Dropout\n",
    "from keras.layers import LSTM\n",
    "from keras.callbacks import ModelCheckpoint\n",
    "from keras.utils import np_utils\n",
    "import pandas as pd\n",
    "import matplotlib.pyplot as plt\n"
   ]
  },
  {
   "cell_type": "code",
   "execution_count": 8,
   "metadata": {},
   "outputs": [
    {
     "name": "stdout",
     "output_type": "stream",
     "text": [
      "Model: \"sequential\"\n",
      "_________________________________________________________________\n",
      "Layer (type)                 Output Shape              Param #   \n",
      "=================================================================\n",
      "lstm1 (LSTM)                 (None, 100, 256)          264192    \n",
      "_________________________________________________________________\n",
      "drop1 (Dropout)              (None, 100, 256)          0         \n",
      "_________________________________________________________________\n",
      "lstm2 (LSTM)                 (None, 256)               525312    \n",
      "_________________________________________________________________\n",
      "drop2 (Dropout)              (None, 256)               0         \n",
      "_________________________________________________________________\n",
      "output (Dense)               (None, 71)                18247     \n",
      "=================================================================\n",
      "Total params: 807,751\n",
      "Trainable params: 807,751\n",
      "Non-trainable params: 0\n",
      "_________________________________________________________________\n",
      "Epoch 1/10\n",
      "2745/2745 [==============================] - 1040s 377ms/step - loss: 2.7244\n",
      "\n",
      "Epoch 00001: loss improved from inf to 2.72444, saving model to checkpoints\\weights-checkpoint-01-2.7244.hdf5\n",
      "Epoch 2/10\n",
      "2745/2745 [==============================] - 1472s 536ms/step - loss: 2.3850\n",
      "\n",
      "Epoch 00002: loss improved from 2.72444 to 2.38502, saving model to checkpoints\\weights-checkpoint-02-2.3850.hdf5\n",
      "Epoch 3/10\n",
      "2745/2745 [==============================] - 1697s 618ms/step - loss: 2.1134\n",
      "\n",
      "Epoch 00003: loss improved from 2.38502 to 2.11336, saving model to checkpoints\\weights-checkpoint-03-2.1134.hdf5\n",
      "Epoch 4/10\n",
      "2745/2745 [==============================] - 1721s 627ms/step - loss: 1.9077 - loss: 1.907\n",
      "\n",
      "Epoch 00004: loss improved from 2.11336 to 1.90773, saving model to checkpoints\\weights-checkpoint-04-1.9077.hdf5\n",
      "Epoch 5/10\n",
      "2745/2745 [==============================] - 1718s 626ms/step - loss: 1.7537\n",
      "\n",
      "Epoch 00005: loss improved from 1.90773 to 1.75372, saving model to checkpoints\\weights-checkpoint-05-1.7537.hdf5\n",
      "Epoch 6/10\n",
      "2745/2745 [==============================] - 1692s 616ms/step - loss: 1.6313\n",
      "\n",
      "Epoch 00006: loss improved from 1.75372 to 1.63126, saving model to checkpoints\\weights-checkpoint-06-1.6313.hdf5\n",
      "Epoch 7/10\n",
      "2745/2745 [==============================] - 1683s 613ms/step - loss: 1.5319\n",
      "\n",
      "Epoch 00007: loss improved from 1.63126 to 1.53193, saving model to checkpoints\\weights-checkpoint-07-1.5319.hdf5\n",
      "Epoch 8/10\n",
      "2745/2745 [==============================] - 1733s 632ms/step - loss: 1.4541\n",
      "\n",
      "Epoch 00008: loss improved from 1.53193 to 1.45408, saving model to checkpoints\\weights-checkpoint-08-1.4541.hdf5\n",
      "Epoch 9/10\n",
      "2745/2745 [==============================] - 1741s 634ms/step - loss: 1.3857\n",
      "\n",
      "Epoch 00009: loss improved from 1.45408 to 1.38569, saving model to checkpoints\\weights-checkpoint-09-1.3857.hdf5\n",
      "Epoch 10/10\n",
      "2745/2745 [==============================] - 1712s 624ms/step - loss: 1.3269\n",
      "\n",
      "Epoch 00010: loss improved from 1.38569 to 1.32686, saving model to checkpoints\\weights-checkpoint-10-1.3269.hdf5\n"
     ]
    },
    {
     "data": {
      "text/plain": [
       "<keras.callbacks.History at 0x14e4e971820>"
      ]
     },
     "execution_count": 8,
     "metadata": {},
     "output_type": "execute_result"
    }
   ],
   "source": [
    "\n",
    "# Define LSTM Network Model\n",
    "model = Sequential()\n",
    "model.add(LSTM(256, input_shape=(X.shape[1], X.shape[2]), return_sequences=True, name='lstm1'))\n",
    "model.add(Dropout(0.2, name='drop1'))\n",
    "model.add(LSTM(256, name='lstm2'))\n",
    "model.add(Dropout(0.2, name='drop2'))\n",
    "model.add(Dense(y.shape[1], activation='softmax', name='output'))\n",
    "model.compile(loss='categorical_crossentropy', optimizer='adam')\n",
    "\n",
    "model.summary()\n",
    "\n",
    "# define the checkpoint\n",
    "filepath=\"checkpoints/weights-checkpoint-{epoch:02d}-{loss:.4f}.hdf5\"\n",
    "checkpoint = ModelCheckpoint(filepath, monitor='loss', verbose=1, save_best_only=True, mode='min')\n",
    "callbacks_list = [checkpoint]\n",
    "# fit the model\n",
    "model.fit(X, y, epochs=10, batch_size=64, callbacks=callbacks_list)"
   ]
  },
  {
   "cell_type": "markdown",
   "metadata": {},
   "source": [
    "## USE THE MODEL TO PREDICT A SEQUENCE OF TEXT"
   ]
  },
  {
   "cell_type": "code",
   "execution_count": 11,
   "metadata": {},
   "outputs": [
    {
     "name": "stdout",
     "output_type": "stream",
     "text": [
      "\"    ``n_classes``) for that particular output.\n",
      "        \"\"\"\n",
      "        check_is_fitted(self)\n",
      "        resu \"\n",
      "rn self._label_binarizer_.ittput(\n",
      "            self._lptimators_[i] = self.class_prior_\n",
      "            relf._label_binarizer_.iet(xelf.elasses_[i]             relf._label_binarizer_.iet(xelf.elass_srior_)\n",
      "            relf._label_binarizer_.iet(xelf.elass_srior_)\n",
      "            relf._label_binarizer_.iet(xe\n",
      "Done.\n"
     ]
    }
   ],
   "source": [
    "# load the network weights\n",
    "filename = \"checkpoints/weights-checkpoint-10-1.3269.hdf5\"\n",
    "model.load_weights(filename)\n",
    "model.compile(loss='categorical_crossentropy', optimizer='adam')\n",
    "\n",
    "# Select satrting point\n",
    "start = np.random.randint(0, len(dataX)-1)\n",
    "pattern = dataX[start]\n",
    "print (\"\\\"\", ''.join([int_to_char[value] for value in pattern]), \"\\\"\")\n",
    "\n",
    "# generate text\n",
    "for i in range(300):\n",
    "\tx = np.reshape(pattern, (1, len(pattern), 1))\n",
    "\tx = x / float(num_chars)\n",
    "\tprediction = model.predict(x, verbose=0)\n",
    "\tindex = np.argmax(prediction)\n",
    "\tresult = int_to_char[index]\n",
    "\tseq_in = [int_to_char[value] for value in pattern]\n",
    "\tprint(result, end='')\n",
    "\tpattern.append(index)\n",
    "\tpattern = pattern[1:len(pattern)]\n",
    "\n",
    "print (\"\\nDone.\")"
   ]
  }
 ],
 "metadata": {
  "interpreter": {
   "hash": "85a6fe47e72bfc7716f66577a199d39dd4150a671467abccc9a9cd4d7d3c1b7a"
  },
  "kernelspec": {
   "display_name": "Python 3.8.0 ('comp258')",
   "language": "python",
   "name": "python3"
  },
  "language_info": {
   "codemirror_mode": {
    "name": "ipython",
    "version": 3
   },
   "file_extension": ".py",
   "mimetype": "text/x-python",
   "name": "python",
   "nbconvert_exporter": "python",
   "pygments_lexer": "ipython3",
   "version": "3.8.12"
  },
  "orig_nbformat": 4
 },
 "nbformat": 4,
 "nbformat_minor": 2
}
