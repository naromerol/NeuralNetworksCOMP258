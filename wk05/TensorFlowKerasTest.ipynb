{
 "cells": [
  {
   "cell_type": "code",
   "execution_count": 1,
   "metadata": {},
   "outputs": [
    {
     "data": {
      "text/plain": [
       "'2.1.0'"
      ]
     },
     "execution_count": 1,
     "metadata": {},
     "output_type": "execute_result"
    }
   ],
   "source": [
    "import tensorflow as tf\n",
    "from tensorflow import keras\n",
    "tf.__version__\n"
   ]
  },
  {
   "cell_type": "code",
   "execution_count": 2,
   "metadata": {},
   "outputs": [
    {
     "data": {
      "text/plain": [
       "'2.2.4-tf'"
      ]
     },
     "execution_count": 2,
     "metadata": {},
     "output_type": "execute_result"
    }
   ],
   "source": [
    "keras.__version__\n"
   ]
  },
  {
   "cell_type": "code",
   "execution_count": 3,
   "metadata": {},
   "outputs": [
    {
     "name": "stdout",
     "output_type": "stream",
     "text": [
      "Downloading data from https://storage.googleapis.com/tensorflow/tf-keras-datasets/train-labels-idx1-ubyte.gz\n",
      "32768/29515 [=================================] - 0s 1us/step\n",
      "Downloading data from https://storage.googleapis.com/tensorflow/tf-keras-datasets/train-images-idx3-ubyte.gz\n",
      "26427392/26421880 [==============================] - 2s 0us/step\n",
      "Downloading data from https://storage.googleapis.com/tensorflow/tf-keras-datasets/t10k-labels-idx1-ubyte.gz\n",
      "8192/5148 [===============================================] - 0s 0us/step\n",
      "Downloading data from https://storage.googleapis.com/tensorflow/tf-keras-datasets/t10k-images-idx3-ubyte.gz\n",
      "4423680/4422102 [==============================] - 0s 0us/step\n"
     ]
    }
   ],
   "source": [
    "fashion_mnist = keras.datasets.fashion_mnist\n",
    "(X_train_full, y_train_full), (X_test, y_test) = fashion_mnist.load_data()\n"
   ]
  },
  {
   "cell_type": "code",
   "execution_count": 4,
   "metadata": {},
   "outputs": [
    {
     "data": {
      "text/plain": [
       "(60000, 28, 28)"
      ]
     },
     "execution_count": 4,
     "metadata": {},
     "output_type": "execute_result"
    }
   ],
   "source": [
    "X_train_full.shape\n"
   ]
  },
  {
   "cell_type": "code",
   "execution_count": 5,
   "metadata": {},
   "outputs": [],
   "source": [
    "X_valid, X_train = X_train_full[:5000] / 255.0, X_train_full[5000:] / 255.0\n",
    "y_valid, y_train = y_train_full[:5000], y_train_full[5000:]\n",
    "X_test = X_test / 255.0\n"
   ]
  },
  {
   "cell_type": "code",
   "execution_count": 6,
   "metadata": {},
   "outputs": [],
   "source": [
    "class_names = [\"T-shirt/top\", \"Trouser\", \"Pullover\", \"Dress\", \"Coat\",\n",
    "               \"Sandal\", \"Shirt\", \"Sneaker\", \"Bag\", \"Ankle boot\"]\n"
   ]
  },
  {
   "cell_type": "code",
   "execution_count": 7,
   "metadata": {},
   "outputs": [
    {
     "data": {
      "text/plain": [
       "'Coat'"
      ]
     },
     "execution_count": 7,
     "metadata": {},
     "output_type": "execute_result"
    }
   ],
   "source": [
    "class_names[y_train[0]]\n"
   ]
  },
  {
   "cell_type": "code",
   "execution_count": 8,
   "metadata": {},
   "outputs": [],
   "source": [
    "model = keras.models.Sequential()\n",
    "model.add(keras.layers.Flatten(input_shape=[28, 28]))\n",
    "model.add(keras.layers.Dense(300, activation=\"relu\"))\n",
    "model.add(keras.layers.Dense(100, activation=\"relu\"))\n",
    "model.add(keras.layers.Dense(10, activation=\"softmax\"))\n"
   ]
  },
  {
   "cell_type": "code",
   "execution_count": 9,
   "metadata": {},
   "outputs": [
    {
     "name": "stdout",
     "output_type": "stream",
     "text": [
      "Model: \"sequential\"\n",
      "_________________________________________________________________\n",
      "Layer (type)                 Output Shape              Param #   \n",
      "=================================================================\n",
      "flatten (Flatten)            (None, 784)               0         \n",
      "_________________________________________________________________\n",
      "dense (Dense)                (None, 300)               235500    \n",
      "_________________________________________________________________\n",
      "dense_1 (Dense)              (None, 100)               30100     \n",
      "_________________________________________________________________\n",
      "dense_2 (Dense)              (None, 10)                1010      \n",
      "=================================================================\n",
      "Total params: 266,610\n",
      "Trainable params: 266,610\n",
      "Non-trainable params: 0\n",
      "_________________________________________________________________\n"
     ]
    }
   ],
   "source": [
    "model.summary()\n"
   ]
  },
  {
   "cell_type": "code",
   "execution_count": 17,
   "metadata": {},
   "outputs": [
    {
     "data": {
      "text/plain": [
       "True"
      ]
     },
     "execution_count": 17,
     "metadata": {},
     "output_type": "execute_result"
    }
   ],
   "source": [
    "hidden1 = model.layers[1]\n",
    "hidden1.name\n",
    "model.get_layer('dense') is hidden1\n",
    "\n"
   ]
  },
  {
   "cell_type": "code",
   "execution_count": 19,
   "metadata": {},
   "outputs": [
    {
     "data": {
      "text/plain": [
       "array([[ 0.06019031,  0.01513834, -0.01500878, ..., -0.04537861,\n",
       "        -0.03762497, -0.05548324],\n",
       "       [ 0.0481792 ,  0.00711174, -0.04754713, ...,  0.02204601,\n",
       "         0.0068235 ,  0.01504365],\n",
       "       [ 0.029147  , -0.04737985,  0.03102755, ..., -0.04118712,\n",
       "         0.0132729 , -0.03969758],\n",
       "       ...,\n",
       "       [-0.07259653, -0.05983565, -0.00233666, ...,  0.04302547,\n",
       "        -0.0014599 ,  0.06828435],\n",
       "       [-0.06918684, -0.05270748,  0.00316256, ...,  0.05663006,\n",
       "         0.01658869, -0.06237809],\n",
       "       [-0.03540869, -0.03555262,  0.03513446, ..., -0.07374234,\n",
       "         0.04492264, -0.00445321]], dtype=float32)"
      ]
     },
     "execution_count": 19,
     "metadata": {},
     "output_type": "execute_result"
    }
   ],
   "source": [
    "weights, biases = hidden1.get_weights()\n",
    "weights\n",
    "\n",
    "\n"
   ]
  },
  {
   "cell_type": "code",
   "execution_count": null,
   "metadata": {},
   "outputs": [],
   "source": [
    "weights.shape\n",
    "\n",
    "biases\n",
    "\n",
    "biases.shape\n"
   ]
  },
  {
   "cell_type": "code",
   "execution_count": 20,
   "metadata": {},
   "outputs": [],
   "source": [
    "model.compile(loss=\"sparse_categorical_crossentropy\",\n",
    "              optimizer=\"sgd\",\n",
    "              metrics=[\"accuracy\"])\n"
   ]
  },
  {
   "cell_type": "code",
   "execution_count": 21,
   "metadata": {},
   "outputs": [
    {
     "name": "stdout",
     "output_type": "stream",
     "text": [
      "Train on 55000 samples, validate on 5000 samples\n",
      "Epoch 1/30\n",
      "55000/55000 [==============================] - 4s 79us/sample - loss: 0.7107 - accuracy: 0.7679 - val_loss: 0.5042 - val_accuracy: 0.8308\n",
      "Epoch 2/30\n",
      "55000/55000 [==============================] - 4s 70us/sample - loss: 0.4836 - accuracy: 0.8318 - val_loss: 0.4533 - val_accuracy: 0.8442\n",
      "Epoch 3/30\n",
      "55000/55000 [==============================] - 4s 72us/sample - loss: 0.4399 - accuracy: 0.8453 - val_loss: 0.4211 - val_accuracy: 0.8534\n",
      "Epoch 4/30\n",
      "55000/55000 [==============================] - 4s 72us/sample - loss: 0.4133 - accuracy: 0.8547 - val_loss: 0.3954 - val_accuracy: 0.8590\n",
      "Epoch 5/30\n",
      "55000/55000 [==============================] - 4s 71us/sample - loss: 0.3928 - accuracy: 0.8625 - val_loss: 0.3822 - val_accuracy: 0.8668\n",
      "Epoch 6/30\n",
      "55000/55000 [==============================] - 4s 70us/sample - loss: 0.3777 - accuracy: 0.8661 - val_loss: 0.3771 - val_accuracy: 0.8684\n",
      "Epoch 7/30\n",
      "55000/55000 [==============================] - 4s 74us/sample - loss: 0.3637 - accuracy: 0.8718 - val_loss: 0.3710 - val_accuracy: 0.8678\n",
      "Epoch 8/30\n",
      "55000/55000 [==============================] - 4s 72us/sample - loss: 0.3517 - accuracy: 0.8753 - val_loss: 0.3665 - val_accuracy: 0.8754\n",
      "Epoch 9/30\n",
      "55000/55000 [==============================] - 4s 71us/sample - loss: 0.3404 - accuracy: 0.8787 - val_loss: 0.3466 - val_accuracy: 0.8808\n",
      "Epoch 10/30\n",
      "55000/55000 [==============================] - 4s 72us/sample - loss: 0.3309 - accuracy: 0.8828 - val_loss: 0.3471 - val_accuracy: 0.8746\n",
      "Epoch 11/30\n",
      "55000/55000 [==============================] - 4s 71us/sample - loss: 0.3233 - accuracy: 0.8847 - val_loss: 0.3374 - val_accuracy: 0.8776\n",
      "Epoch 12/30\n",
      "55000/55000 [==============================] - 4s 70us/sample - loss: 0.3156 - accuracy: 0.8874 - val_loss: 0.3240 - val_accuracy: 0.8824\n",
      "Epoch 13/30\n",
      "55000/55000 [==============================] - 4s 73us/sample - loss: 0.3075 - accuracy: 0.8889 - val_loss: 0.3310 - val_accuracy: 0.8818\n",
      "Epoch 14/30\n",
      "55000/55000 [==============================] - 4s 73us/sample - loss: 0.3010 - accuracy: 0.8925 - val_loss: 0.3197 - val_accuracy: 0.8854\n",
      "Epoch 15/30\n",
      "55000/55000 [==============================] - 4s 72us/sample - loss: 0.2946 - accuracy: 0.8938 - val_loss: 0.3303 - val_accuracy: 0.8828\n",
      "Epoch 16/30\n",
      "55000/55000 [==============================] - 4s 73us/sample - loss: 0.2890 - accuracy: 0.8966 - val_loss: 0.3137 - val_accuracy: 0.8866\n",
      "Epoch 17/30\n",
      "55000/55000 [==============================] - 4s 70us/sample - loss: 0.2827 - accuracy: 0.8976 - val_loss: 0.3108 - val_accuracy: 0.8850\n",
      "Epoch 18/30\n",
      "55000/55000 [==============================] - 4s 71us/sample - loss: 0.2768 - accuracy: 0.9005 - val_loss: 0.3110 - val_accuracy: 0.8868\n",
      "Epoch 19/30\n",
      "55000/55000 [==============================] - 4s 71us/sample - loss: 0.2720 - accuracy: 0.9013 - val_loss: 0.3137 - val_accuracy: 0.8854\n",
      "Epoch 20/30\n",
      "55000/55000 [==============================] - 4s 70us/sample - loss: 0.2675 - accuracy: 0.9036 - val_loss: 0.3027 - val_accuracy: 0.8900\n",
      "Epoch 21/30\n",
      "55000/55000 [==============================] - 4s 71us/sample - loss: 0.2625 - accuracy: 0.9060 - val_loss: 0.3047 - val_accuracy: 0.8894\n",
      "Epoch 22/30\n",
      "55000/55000 [==============================] - 4s 70us/sample - loss: 0.2575 - accuracy: 0.9071 - val_loss: 0.3140 - val_accuracy: 0.8860\n",
      "Epoch 23/30\n",
      "55000/55000 [==============================] - 4s 70us/sample - loss: 0.2531 - accuracy: 0.9080 - val_loss: 0.3018 - val_accuracy: 0.8932\n",
      "Epoch 24/30\n",
      "55000/55000 [==============================] - 4s 69us/sample - loss: 0.2486 - accuracy: 0.9096 - val_loss: 0.3205 - val_accuracy: 0.8832\n",
      "Epoch 25/30\n",
      "55000/55000 [==============================] - 4s 69us/sample - loss: 0.2445 - accuracy: 0.9108 - val_loss: 0.2969 - val_accuracy: 0.8920\n",
      "Epoch 26/30\n",
      "55000/55000 [==============================] - 4s 69us/sample - loss: 0.2411 - accuracy: 0.9128 - val_loss: 0.2998 - val_accuracy: 0.8896\n",
      "Epoch 27/30\n",
      "55000/55000 [==============================] - 4s 70us/sample - loss: 0.2363 - accuracy: 0.9148 - val_loss: 0.3010 - val_accuracy: 0.8898\n",
      "Epoch 28/30\n",
      "55000/55000 [==============================] - 4s 73us/sample - loss: 0.2327 - accuracy: 0.9160 - val_loss: 0.2933 - val_accuracy: 0.8920\n",
      "Epoch 29/30\n",
      "55000/55000 [==============================] - 4s 75us/sample - loss: 0.2299 - accuracy: 0.9165 - val_loss: 0.3117 - val_accuracy: 0.8892\n",
      "Epoch 30/30\n",
      "55000/55000 [==============================] - 4s 69us/sample - loss: 0.2250 - accuracy: 0.9193 - val_loss: 0.3099 - val_accuracy: 0.8896\n"
     ]
    }
   ],
   "source": [
    "history = model.fit(X_train, y_train, epochs=30, validation_data=(X_valid, y_valid))\n",
    "\n"
   ]
  },
  {
   "cell_type": "code",
   "execution_count": 22,
   "metadata": {},
   "outputs": [
    {
     "data": {
      "image/png": "[encoded data removed]",
      "text/plain": [
       "<Figure size 576x360 with 1 Axes>"
      ]
     },
     "metadata": {
      "needs_background": "light"
     },
     "output_type": "display_data"
    }
   ],
   "source": [
    "import pandas as pd\n",
    "import matplotlib.pyplot as plt\n",
    "\n",
    "pd.DataFrame(history.history).plot(figsize=(8, 5))\n",
    "plt.grid(True)\n",
    "plt.gca().set_ylim(0, 1) # set the vertical range to [0-1]\n",
    "plt.show()\n"
   ]
  },
  {
   "cell_type": "code",
   "execution_count": 23,
   "metadata": {},
   "outputs": [
    {
     "name": "stdout",
     "output_type": "stream",
     "text": [
      "10000/10000 [==============================] - 0s 39us/sample - loss: 0.3424 - accuracy: 0.8818\n"
     ]
    },
    {
     "data": {
      "text/plain": [
       "[0.3424001827120781, 0.8818]"
      ]
     },
     "execution_count": 23,
     "metadata": {},
     "output_type": "execute_result"
    }
   ],
   "source": [
    "model.evaluate(X_test, y_test)\n"
   ]
  },
  {
   "cell_type": "code",
   "execution_count": 24,
   "metadata": {},
   "outputs": [
    {
     "data": {
      "text/plain": [
       "array([[0.  , 0.  , 0.  , 0.  , 0.  , 0.01, 0.  , 0.01, 0.  , 0.98],\n",
       "       [0.  , 0.  , 1.  , 0.  , 0.  , 0.  , 0.  , 0.  , 0.  , 0.  ],\n",
       "       [0.  , 1.  , 0.  , 0.  , 0.  , 0.  , 0.  , 0.  , 0.  , 0.  ]],\n",
       "      dtype=float32)"
      ]
     },
     "execution_count": 24,
     "metadata": {},
     "output_type": "execute_result"
    }
   ],
   "source": [
    "X_new = X_test[:3]\n",
    "y_proba = model.predict(X_new)\n",
    "y_proba.round(2)\n"
   ]
  },
  {
   "cell_type": "code",
   "execution_count": 25,
   "metadata": {},
   "outputs": [
    {
     "data": {
      "text/plain": [
       "array([9, 2, 1], dtype=int64)"
      ]
     },
     "execution_count": 25,
     "metadata": {},
     "output_type": "execute_result"
    }
   ],
   "source": [
    "y_pred = model.predict_classes(X_new)\n",
    "y_pred\n"
   ]
  },
  {
   "cell_type": "code",
   "execution_count": 27,
   "metadata": {},
   "outputs": [
    {
     "data": {
      "text/plain": [
       "array(['Ankle boot', 'Pullover', 'Trouser'], dtype='<U11')"
      ]
     },
     "execution_count": 27,
     "metadata": {},
     "output_type": "execute_result"
    }
   ],
   "source": [
    "import numpy as np\n",
    "np.array(class_names)[y_pred]\n"
   ]
  },
  {
   "cell_type": "code",
   "execution_count": 29,
   "metadata": {},
   "outputs": [
    {
     "data": {
      "text/plain": [
       "array([9, 2, 1], dtype=uint8)"
      ]
     },
     "execution_count": 29,
     "metadata": {},
     "output_type": "execute_result"
    }
   ],
   "source": [
    "y_new = y_test[:3]\n",
    "y_new"
   ]
  },
  {
   "cell_type": "code",
   "execution_count": null,
   "metadata": {},
   "outputs": [],
   "source": []
  }
 ],
 "metadata": {
  "kernelspec": {
   "display_name": "Python 3",
   "language": "python",
   "name": "python3"
  },
  "language_info": {
   "codemirror_mode": {
    "name": "ipython",
    "version": 3
   },
   "file_extension": ".py",
   "mimetype": "text/x-python",
   "name": "python",
   "nbconvert_exporter": "python",
   "pygments_lexer": "ipython3",
   "version": "3.7.7"
  }
 },
 "nbformat": 4,
 "nbformat_minor": 4
}
